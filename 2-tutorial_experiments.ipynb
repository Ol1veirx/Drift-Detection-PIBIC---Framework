{
 "cells": [
  {
   "cell_type": "code",
   "execution_count": 1,
   "id": "91a1a7b7",
   "metadata": {},
   "outputs": [
    {
     "name": "stdout",
     "output_type": "stream",
     "text": [
      "\u001b[33mWARNING: Ignoring invalid distribution ~umpy (/home/liedson/.pyenv/versions/3.12.6/lib/python3.12/site-packages)\u001b[0m\u001b[33m\n",
      "\u001b[0mCollecting autorank\n",
      "  Downloading autorank-1.2.1-py3-none-any.whl.metadata (19 kB)\n",
      "Requirement already satisfied: numpy in /home/liedson/.pyenv/versions/3.12.6/lib/python3.12/site-packages (from autorank) (1.26.1)\n",
      "Requirement already satisfied: pandas>=2.0.3 in /home/liedson/.pyenv/versions/3.12.6/lib/python3.12/site-packages (from autorank) (2.2.2)\n",
      "Collecting statsmodels>=0.14.0 (from autorank)\n",
      "  Downloading statsmodels-0.14.4-cp312-cp312-manylinux_2_17_x86_64.manylinux2014_x86_64.whl.metadata (9.2 kB)\n",
      "Requirement already satisfied: scipy>=1.10.1 in /home/liedson/.pyenv/versions/3.12.6/lib/python3.12/site-packages (from autorank) (1.13.1)\n",
      "Requirement already satisfied: matplotlib>=3.7.2 in /home/liedson/.pyenv/versions/3.12.6/lib/python3.12/site-packages (from autorank) (3.10.1)\n",
      "Collecting baycomp>=1.0.3 (from autorank)\n",
      "  Downloading baycomp-1.0.3.tar.gz (15 kB)\n",
      "  Preparing metadata (setup.py) ... \u001b[?25ldone\n",
      "\u001b[?25hCollecting jinja2>=3.1.2 (from autorank)\n",
      "  Downloading jinja2-3.1.6-py3-none-any.whl.metadata (2.9 kB)\n",
      "Requirement already satisfied: MarkupSafe>=2.0 in /home/liedson/.pyenv/versions/3.12.6/lib/python3.12/site-packages (from jinja2>=3.1.2->autorank) (3.0.2)\n",
      "Requirement already satisfied: contourpy>=1.0.1 in /home/liedson/.pyenv/versions/3.12.6/lib/python3.12/site-packages (from matplotlib>=3.7.2->autorank) (1.3.1)\n",
      "Requirement already satisfied: cycler>=0.10 in /home/liedson/.pyenv/versions/3.12.6/lib/python3.12/site-packages (from matplotlib>=3.7.2->autorank) (0.12.1)\n",
      "Requirement already satisfied: fonttools>=4.22.0 in /home/liedson/.pyenv/versions/3.12.6/lib/python3.12/site-packages (from matplotlib>=3.7.2->autorank) (4.57.0)\n",
      "Requirement already satisfied: kiwisolver>=1.3.1 in /home/liedson/.pyenv/versions/3.12.6/lib/python3.12/site-packages (from matplotlib>=3.7.2->autorank) (1.4.8)\n",
      "Requirement already satisfied: packaging>=20.0 in /home/liedson/.pyenv/versions/3.12.6/lib/python3.12/site-packages (from matplotlib>=3.7.2->autorank) (24.2)\n",
      "Requirement already satisfied: pillow>=8 in /home/liedson/.pyenv/versions/3.12.6/lib/python3.12/site-packages (from matplotlib>=3.7.2->autorank) (11.1.0)\n",
      "Requirement already satisfied: pyparsing>=2.3.1 in /home/liedson/.pyenv/versions/3.12.6/lib/python3.12/site-packages (from matplotlib>=3.7.2->autorank) (3.2.3)\n",
      "Requirement already satisfied: python-dateutil>=2.7 in /home/liedson/.pyenv/versions/3.12.6/lib/python3.12/site-packages (from matplotlib>=3.7.2->autorank) (2.9.0.post0)\n",
      "Requirement already satisfied: pytz>=2020.1 in /home/liedson/.pyenv/versions/3.12.6/lib/python3.12/site-packages (from pandas>=2.0.3->autorank) (2025.2)\n",
      "Requirement already satisfied: tzdata>=2022.7 in /home/liedson/.pyenv/versions/3.12.6/lib/python3.12/site-packages (from pandas>=2.0.3->autorank) (2025.2)\n",
      "Collecting patsy>=0.5.6 (from statsmodels>=0.14.0->autorank)\n",
      "  Downloading patsy-1.0.1-py2.py3-none-any.whl.metadata (3.3 kB)\n",
      "Requirement already satisfied: six>=1.5 in /home/liedson/.pyenv/versions/3.12.6/lib/python3.12/site-packages (from python-dateutil>=2.7->matplotlib>=3.7.2->autorank) (1.17.0)\n",
      "Downloading autorank-1.2.1-py3-none-any.whl (35 kB)\n",
      "Downloading jinja2-3.1.6-py3-none-any.whl (134 kB)\n",
      "Downloading statsmodels-0.14.4-cp312-cp312-manylinux_2_17_x86_64.manylinux2014_x86_64.whl (10.7 MB)\n",
      "\u001b[2K   \u001b[90m━━━━━━━━━━━━━━━━━━━━━━━━━━━━━━━━━━━━━━━━\u001b[0m \u001b[32m10.7/10.7 MB\u001b[0m \u001b[31m283.5 kB/s\u001b[0m eta \u001b[36m0:00:00\u001b[0m00:01\u001b[0m00:02\u001b[0m\n",
      "\u001b[?25hDownloading patsy-1.0.1-py2.py3-none-any.whl (232 kB)\n",
      "Building wheels for collected packages: baycomp\n",
      "  Building wheel for baycomp (setup.py) ... \u001b[?25ldone\n",
      "\u001b[?25h  Created wheel for baycomp: filename=baycomp-1.0.3-py3-none-any.whl size=18114 sha256=68056bc04dc194eb566aab8a65bb7a59c09018b37bab54c005263af4576bad7b\n",
      "  Stored in directory: /home/liedson/.cache/pip/wheels/ff/39/6a/f87e05ad75b9d87f4eb262a897ec2fe3aab09449d13e3c3b2c\n",
      "Successfully built baycomp\n",
      "\u001b[33mWARNING: Ignoring invalid distribution ~umpy (/home/liedson/.pyenv/versions/3.12.6/lib/python3.12/site-packages)\u001b[0m\u001b[33m\n",
      "\u001b[0mInstalling collected packages: patsy, jinja2, statsmodels, baycomp, autorank\n",
      "\u001b[33mWARNING: Ignoring invalid distribution ~umpy (/home/liedson/.pyenv/versions/3.12.6/lib/python3.12/site-packages)\u001b[0m\u001b[33m\n",
      "\u001b[0mSuccessfully installed autorank-1.2.1 baycomp-1.0.3 jinja2-3.1.6 patsy-1.0.1 statsmodels-0.14.4\n",
      "\n",
      "\u001b[1m[\u001b[0m\u001b[34;49mnotice\u001b[0m\u001b[1;39;49m]\u001b[0m\u001b[39;49m A new release of pip is available: \u001b[0m\u001b[31;49m25.0\u001b[0m\u001b[39;49m -> \u001b[0m\u001b[32;49m25.1\u001b[0m\n",
      "\u001b[1m[\u001b[0m\u001b[34;49mnotice\u001b[0m\u001b[1;39;49m]\u001b[0m\u001b[39;49m To update, run: \u001b[0m\u001b[32;49mpip install --upgrade pip\u001b[0m\n",
      "Note: you may need to restart the kernel to use updated packages.\n"
     ]
    }
   ],
   "source": [
    "%pip install autorank"
   ]
  },
  {
   "cell_type": "code",
   "execution_count": 2,
   "id": "c725d758",
   "metadata": {},
   "outputs": [],
   "source": [
    "from utils.FileManager import FileManager\n",
    "import pandas as pd\n",
    "\n",
    "import warnings\n",
    "warnings.filterwarnings(\"ignore\")\n",
    "\n",
    "from autorank import autorank, plot_stats, create_report"
   ]
  },
  {
   "cell_type": "code",
   "execution_count": 3,
   "id": "d027b13b",
   "metadata": {},
   "outputs": [],
   "source": [
    "from avaliacao.AvaliadorDriftBase import AvaliadorBatch\n",
    "from avaliacao.AvaliadorDriftBase import AvaliadorPassivo\n",
    "from experimento.ExperimentoDrift import Experimento"
   ]
  },
  {
   "cell_type": "code",
   "execution_count": 4,
   "id": "3bb3062b",
   "metadata": {},
   "outputs": [],
   "source": [
    "# Importando detectores de drift\n",
    "from detectores.ADWINDetector import ADWINDetector\n",
    "from detectores.DDMDetector import DDMDetector\n",
    "from detectores.EDDMDetector import EDDMDetector\n",
    "from detectores.FHDDMDetector import FHDDMDetector\n",
    "from detectores.HDDM_ADetector import HDDM_ADetector\n",
    "from detectores.PageHinkleyDetector import PageHinkleyDetector\n",
    "from detectores.HDDM_WDetector import HDDM_WDetector\n",
    "from detectores.KSWINDetector import KSWINDetector"
   ]
  },
  {
   "cell_type": "code",
   "execution_count": 6,
   "id": "db934292",
   "metadata": {},
   "outputs": [],
   "source": [
    "# Importando modelos offline\n",
    "from regressores.modelosOffline.LinearRegressionModelo import LinearRegressionModelo\n",
    "from regressores.modelosOffline.KneighborsRegressorModelo import KNeighborsRegressorModelo\n",
    "from regressores.modelosOffline.LassoRegressionModelo import LassoRegressionModelo\n",
    "from regressores.modelosOffline.RidgeRegressionModelo import RidgeRegressionModelo\n",
    "from regressores.modelosOffline.SVRModelo import SVRModelo\n",
    "from regressores.modelosOffline.RandomForestModelo import RandomForestModelo\n",
    "from regressores.modelosOffline.MLPRegressorModelo import MLPRegressorModelo"
   ]
  },
  {
   "cell_type": "code",
   "execution_count": 7,
   "id": "d40e2736",
   "metadata": {},
   "outputs": [],
   "source": [
    "# Importando modelos online\n",
    "from regressores.modelosOnline.BayesianLinearRegressionModelo import BayesianLinearRegressionModelo\n",
    "from regressores.modelosOnline.HoeffdingTreeRegressorModelo import HoeffdingTreeRegressorModelo\n",
    "from regressores.modelosOnline.KNNRegressorOnlineModelo import KNNRegressorOnlineModelo\n",
    "from regressores.modelosOnline.LinearRegressionOnlineModelo import LinearRegressionOnlineModelo\n",
    "\n",
    "\n"
   ]
  },
  {
   "cell_type": "code",
   "execution_count": 8,
   "id": "b635e9fe",
   "metadata": {},
   "outputs": [],
   "source": [
    "# Lista de séries temporais\n",
    "series = [\n",
    "    \"AAPL\",\n",
    "    \"B3SA3.SA\",\n",
    "    \"^IXIC\",\n",
    "    \"^DJI\",\n",
    "    \"^GSPC\",\n",
    "    \"^BVSP\",\n",
    "    \"USDBRL=X\"\n",
    "]"
   ]
  },
  {
   "cell_type": "code",
   "execution_count": 9,
   "id": "f43f688c",
   "metadata": {},
   "outputs": [],
   "source": [
    "# Parâmetros do experimento\n",
    "tamanho_batch = 50\n",
    "lags = 5\n",
    "repeticoes = 30  # Número de execuções para cada modelo-série"
   ]
  },
  {
   "cell_type": "code",
   "execution_count": 11,
   "id": "2e6bc3b4",
   "metadata": {},
   "outputs": [],
   "source": [
    "# Lista de modelos para o experimento\n",
    "modelos = [\n",
    "    {\n",
    "        \"nome\": \"LR + KSWIN\",\n",
    "        \"avaliador\": AvaliadorBatch(),\n",
    "        \"modelo\": LinearRegressionModelo,\n",
    "        \"detector\": KSWINDetector\n",
    "    },\n",
    "    {\n",
    "        \"nome\": \"LR + HDDMa\",\n",
    "        \"avaliador\": AvaliadorBatch(),\n",
    "        \"modelo\": LinearRegressionModelo,\n",
    "        \"detector\": HDDM_ADetector\n",
    "    },\n",
    "    {\n",
    "        \"nome\": \"LR + ADWIN\",\n",
    "        \"avaliador\": AvaliadorBatch(),\n",
    "        \"modelo\": LinearRegressionModelo,\n",
    "        \"detector\": ADWINDetector\n",
    "    },\n",
    "    {\n",
    "        \"nome\": \"LR + DDM\",\n",
    "        \"avaliador\": AvaliadorBatch(),\n",
    "        \"modelo\": LinearRegressionModelo,\n",
    "        \"detector\": DDMDetector\n",
    "    },\n",
    "\n",
    "\n",
    "\n",
    "    {\n",
    "        \"nome\": \"KNN + KSWIN\",\n",
    "        \"avaliador\": AvaliadorBatch(),\n",
    "        \"modelo\": KNeighborsRegressorModelo,\n",
    "        \"detector\": KSWINDetector\n",
    "    },\n",
    "    {\n",
    "        \"nome\": \"KNN + HDDMa\",\n",
    "        \"avaliador\": AvaliadorBatch(),\n",
    "        \"modelo\": KNeighborsRegressorModelo,\n",
    "        \"detector\": HDDM_ADetector\n",
    "    },\n",
    "    {\n",
    "        \"nome\": \"KNN + ADWIN\",\n",
    "        \"avaliador\": AvaliadorBatch(),\n",
    "        \"modelo\": KNeighborsRegressorModelo,\n",
    "        \"detector\": ADWINDetector\n",
    "    },\n",
    "    {\n",
    "        \"nome\": \"KNN + DDM\",\n",
    "        \"avaliador\": AvaliadorBatch(),\n",
    "        \"modelo\": KNeighborsRegressorModelo,\n",
    "        \"detector\": DDMDetector\n",
    "    },\n",
    "\n",
    "\n",
    "\n",
    "    {\n",
    "        \"nome\": \"RF + KSWIN\",\n",
    "        \"avaliador\": AvaliadorBatch(),\n",
    "        \"modelo\": RandomForestModelo,\n",
    "        \"detector\": KSWINDetector\n",
    "    },\n",
    "    {\n",
    "        \"nome\": \"RF + HDDMa\",\n",
    "        \"avaliador\": AvaliadorBatch(),\n",
    "        \"modelo\": RandomForestModelo,\n",
    "        \"detector\": HDDM_ADetector\n",
    "    },\n",
    "    {\n",
    "        \"nome\": \"RF + ADWIN\",\n",
    "        \"avaliador\": AvaliadorBatch(),\n",
    "        \"modelo\": RandomForestModelo,\n",
    "        \"detector\": ADWINDetector\n",
    "    },\n",
    "    {\n",
    "        \"nome\": \"RF + DDM\",\n",
    "        \"avaliador\": AvaliadorBatch(),\n",
    "        \"modelo\": RandomForestModelo,\n",
    "        \"detector\": DDMDetector\n",
    "    },\n",
    "\n",
    "\n",
    "    {\n",
    "        \"nome\": \"BayesianLinear\",\n",
    "        \"avaliador\": AvaliadorPassivo(),\n",
    "        \"modelo\": BayesianLinearRegressionModelo,\n",
    "        \"detector\": None  # Passivo, não usa detector\n",
    "    },\n",
    "    {\n",
    "        \"nome\": \"HoeffdingTree\",\n",
    "        \"avaliador\": AvaliadorPassivo(),\n",
    "        \"modelo\": HoeffdingTreeRegressorModelo,\n",
    "        \"detector\": None  # Passivo, não usa detector\n",
    "    },\n",
    "    {\n",
    "        \"nome\": \"KNNRegressorOnline\",\n",
    "        \"avaliador\": AvaliadorPassivo(),\n",
    "        \"modelo\": KNNRegressorOnlineModelo,\n",
    "        \"detector\": None  # Passivo, não usa detector\n",
    "    },\n",
    "    {\n",
    "        \"nome\": \"LinearRegressionOnline\",\n",
    "        \"avaliador\": AvaliadorPassivo(),\n",
    "        \"modelo\": LinearRegressionOnlineModelo,\n",
    "        \"detector\": None  # Passivo, não usa detector\n",
    "    },\n",
    "]\n"
   ]
  },
  {
   "cell_type": "code",
   "execution_count": null,
   "id": "9562af96",
   "metadata": {},
   "outputs": [
    {
     "name": "stdout",
     "output_type": "stream",
     "text": [
      "YF.download() has changed argument auto_adjust default to True\n"
     ]
    },
    {
     "name": "stderr",
     "output_type": "stream",
     "text": [
      "[*********************100%***********************]  1 of 1 completed\n"
     ]
    },
    {
     "name": "stdout",
     "output_type": "stream",
     "text": [
      "Executando LR + KSWIN na série: AAPL\n",
      "Executando LR + HDDMa na série: AAPL\n",
      "Executando LR + ADWIN na série: AAPL\n",
      "Executando LR + DDM na série: AAPL\n",
      "Executando KNN + KSWIN na série: AAPL\n",
      "Executando KNN + HDDMa na série: AAPL\n",
      "Executando KNN + ADWIN na série: AAPL\n",
      "Executando KNN + DDM na série: AAPL\n",
      "Executando RF + KSWIN na série: AAPL\n",
      "Executando RF + HDDMa na série: AAPL\n",
      "Executando RF + ADWIN na série: AAPL\n",
      "Executando RF + DDM na série: AAPL\n",
      "Executando BayesianLinear na série: AAPL\n",
      "Executando HoeffdingTree na série: AAPL\n",
      "Executando KNNRegressorOnline na série: AAPL\n",
      "Executando LinearRegressionOnline na série: AAPL\n"
     ]
    },
    {
     "name": "stderr",
     "output_type": "stream",
     "text": [
      "[*********************100%***********************]  1 of 1 completed\n"
     ]
    },
    {
     "name": "stdout",
     "output_type": "stream",
     "text": [
      "Executando LR + KSWIN na série: B3SA3.SA\n",
      "Executando LR + HDDMa na série: B3SA3.SA\n",
      "Executando LR + ADWIN na série: B3SA3.SA\n",
      "Executando LR + DDM na série: B3SA3.SA\n",
      "Executando KNN + KSWIN na série: B3SA3.SA\n",
      "Executando KNN + HDDMa na série: B3SA3.SA\n",
      "Executando KNN + ADWIN na série: B3SA3.SA\n",
      "Executando KNN + DDM na série: B3SA3.SA\n",
      "Executando RF + KSWIN na série: B3SA3.SA\n",
      "Executando RF + HDDMa na série: B3SA3.SA\n",
      "Executando RF + ADWIN na série: B3SA3.SA\n",
      "Executando RF + DDM na série: B3SA3.SA\n",
      "Executando BayesianLinear na série: B3SA3.SA\n",
      "Executando HoeffdingTree na série: B3SA3.SA\n",
      "Executando KNNRegressorOnline na série: B3SA3.SA\n",
      "Executando LinearRegressionOnline na série: B3SA3.SA\n"
     ]
    },
    {
     "name": "stderr",
     "output_type": "stream",
     "text": [
      "[*********************100%***********************]  1 of 1 completed\n"
     ]
    },
    {
     "name": "stdout",
     "output_type": "stream",
     "text": [
      "Executando LR + KSWIN na série: ^IXIC\n",
      "Executando LR + HDDMa na série: ^IXIC\n",
      "Executando LR + ADWIN na série: ^IXIC\n",
      "Executando LR + DDM na série: ^IXIC\n",
      "Executando KNN + KSWIN na série: ^IXIC\n",
      "Executando KNN + HDDMa na série: ^IXIC\n",
      "Executando KNN + ADWIN na série: ^IXIC\n",
      "Executando KNN + DDM na série: ^IXIC\n",
      "Executando RF + KSWIN na série: ^IXIC\n",
      "Executando RF + HDDMa na série: ^IXIC\n",
      "Executando RF + ADWIN na série: ^IXIC\n",
      "Executando RF + DDM na série: ^IXIC\n",
      "Executando BayesianLinear na série: ^IXIC\n",
      "Executando HoeffdingTree na série: ^IXIC\n",
      "Executando KNNRegressorOnline na série: ^IXIC\n",
      "Executando LinearRegressionOnline na série: ^IXIC\n"
     ]
    },
    {
     "name": "stderr",
     "output_type": "stream",
     "text": [
      "[*********************100%***********************]  1 of 1 completed\n"
     ]
    },
    {
     "name": "stdout",
     "output_type": "stream",
     "text": [
      "Executando LR + KSWIN na série: ^DJI\n",
      "Executando LR + HDDMa na série: ^DJI\n",
      "Executando LR + ADWIN na série: ^DJI\n",
      "Executando LR + DDM na série: ^DJI\n",
      "Executando KNN + KSWIN na série: ^DJI\n",
      "Executando KNN + HDDMa na série: ^DJI\n",
      "Executando KNN + ADWIN na série: ^DJI\n",
      "Executando KNN + DDM na série: ^DJI\n",
      "Executando RF + KSWIN na série: ^DJI\n",
      "Executando RF + HDDMa na série: ^DJI\n",
      "Executando RF + ADWIN na série: ^DJI\n",
      "Executando RF + DDM na série: ^DJI\n",
      "Executando BayesianLinear na série: ^DJI\n",
      "Executando HoeffdingTree na série: ^DJI\n",
      "Executando KNNRegressorOnline na série: ^DJI\n",
      "Executando LinearRegressionOnline na série: ^DJI\n"
     ]
    },
    {
     "name": "stderr",
     "output_type": "stream",
     "text": [
      "[*********************100%***********************]  1 of 1 completed\n"
     ]
    },
    {
     "name": "stdout",
     "output_type": "stream",
     "text": [
      "Executando LR + KSWIN na série: ^GSPC\n",
      "Executando LR + HDDMa na série: ^GSPC\n",
      "Executando LR + ADWIN na série: ^GSPC\n",
      "Executando LR + DDM na série: ^GSPC\n",
      "Executando KNN + KSWIN na série: ^GSPC\n",
      "Executando KNN + HDDMa na série: ^GSPC\n",
      "Executando KNN + ADWIN na série: ^GSPC\n",
      "Executando KNN + DDM na série: ^GSPC\n",
      "Executando RF + KSWIN na série: ^GSPC\n",
      "Executando RF + HDDMa na série: ^GSPC\n",
      "Executando RF + ADWIN na série: ^GSPC\n",
      "Executando RF + DDM na série: ^GSPC\n",
      "Executando BayesianLinear na série: ^GSPC\n",
      "Executando HoeffdingTree na série: ^GSPC\n",
      "Executando KNNRegressorOnline na série: ^GSPC\n",
      "Executando LinearRegressionOnline na série: ^GSPC\n"
     ]
    },
    {
     "name": "stderr",
     "output_type": "stream",
     "text": [
      "[*********************100%***********************]  1 of 1 completed\n"
     ]
    },
    {
     "name": "stdout",
     "output_type": "stream",
     "text": [
      "Executando LR + KSWIN na série: ^BVSP\n",
      "Executando LR + HDDMa na série: ^BVSP\n",
      "Executando LR + ADWIN na série: ^BVSP\n",
      "Executando LR + DDM na série: ^BVSP\n",
      "Executando KNN + KSWIN na série: ^BVSP\n",
      "Executando KNN + HDDMa na série: ^BVSP\n",
      "Executando KNN + ADWIN na série: ^BVSP\n",
      "Executando KNN + DDM na série: ^BVSP\n",
      "Executando RF + KSWIN na série: ^BVSP\n",
      "Executando RF + HDDMa na série: ^BVSP\n"
     ]
    }
   ],
   "source": [
    "# Criando e executando o experimento\n",
    "experimento = Experimento(\n",
    "    series=series,\n",
    "    modelos=modelos,\n",
    "    tamanho_batch=tamanho_batch,\n",
    "    lags=lags,\n",
    "    repeticoes=repeticoes\n",
    ")\n",
    "\n",
    "resultados = experimento.executar()"
   ]
  },
  {
   "cell_type": "code",
   "execution_count": null,
   "id": "76ea97f8",
   "metadata": {},
   "outputs": [],
   "source": [
    "# salvando os resultados\n",
    "arquivo_salvamento = \"Experimento.csv\"\n",
    "FileManager.salvar_resultados(resultados, arquivo_salvamento)"
   ]
  },
  {
   "cell_type": "code",
   "execution_count": null,
   "id": "264d5e3b",
   "metadata": {},
   "outputs": [],
   "source": [
    "# 1. Ler o arquivo CSV\n",
    "df = pd.read_csv(arquivo_salvamento)"
   ]
  },
  {
   "cell_type": "code",
   "execution_count": null,
   "id": "a29f125d",
   "metadata": {},
   "outputs": [],
   "source": [
    "# 3. Agrupar por modelo e calcular estatísticas\n",
    "summary = df.groupby(['serie', 'modelo']).agg(\n",
    "    mae_mean=('mae', 'mean'),\n",
    "    mae_std=('mae', 'std'),\n",
    "    qtd_deteccoes_mean=('qtd_deteccoes', 'mean'),\n",
    "    qtd_deteccoes_std=('qtd_deteccoes', 'std')\n",
    ").reset_index()"
   ]
  },
  {
   "cell_type": "code",
   "execution_count": null,
   "id": "6280b3d1",
   "metadata": {},
   "outputs": [],
   "source": [
    "# Tabela para a média do MAE\n",
    "mae_mean_table = summary.pivot(index='serie', columns='modelo', values='mae_mean')\n",
    "mae_mean_table"
   ]
  },
  {
   "cell_type": "code",
   "execution_count": null,
   "id": "7d0f679b",
   "metadata": {},
   "outputs": [],
   "source": [
    "# Tabela para o desvio padrão do MAE\n",
    "mae_std_table = summary.pivot(index='serie', columns='modelo', values='mae_std')\n",
    "mae_std_table"
   ]
  },
  {
   "cell_type": "code",
   "execution_count": null,
   "id": "09a27429",
   "metadata": {},
   "outputs": [],
   "source": [
    "# Tabela para a média das detecções\n",
    "deteccoes_mean_table = summary.pivot(index='serie', columns='modelo', values='qtd_deteccoes_mean')\n",
    "deteccoes_mean_table"
   ]
  },
  {
   "cell_type": "code",
   "execution_count": null,
   "id": "1c75b8fd",
   "metadata": {},
   "outputs": [],
   "source": [
    "# 4. Preparar dados para autorank (uma linha por repetição, colunas por modelo)\n",
    "df_mae = df.pivot_table(index=[\"serie\", \"repeticao\"], columns=\"modelo\", values=\"mae\")\n",
    "# Remover qualquer valor NaN para análise (caso haja)\n",
    "df_mae = df_mae.dropna()\n",
    "# Tabela de desempenho\n",
    "df_mae"
   ]
  },
  {
   "cell_type": "code",
   "execution_count": null,
   "id": "98d59b5b",
   "metadata": {},
   "outputs": [],
   "source": [
    "# computing the most appropriate statistical test\n",
    "results = autorank(-df_mae)\n",
    "# printing the report\n",
    "create_report(results)"
   ]
  },
  {
   "cell_type": "code",
   "execution_count": null,
   "id": "c6aa9808",
   "metadata": {},
   "outputs": [],
   "source": [
    "# plotting the results\n",
    "plot_stats(results, allow_insignificant=True)"
   ]
  }
 ],
 "metadata": {
  "kernelspec": {
   "display_name": "3.12.6",
   "language": "python",
   "name": "python3"
  },
  "language_info": {
   "codemirror_mode": {
    "name": "ipython",
    "version": 3
   },
   "file_extension": ".py",
   "mimetype": "text/x-python",
   "name": "python",
   "nbconvert_exporter": "python",
   "pygments_lexer": "ipython3",
   "version": "3.12.6"
  }
 },
 "nbformat": 4,
 "nbformat_minor": 5
}
